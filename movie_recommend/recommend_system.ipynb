{
 "cells": [
  {
   "cell_type": "code",
   "execution_count": 1,
   "metadata": {},
   "outputs": [],
   "source": [
    "import numpy as np\n",
    "import pandas as pd\n",
    "import matplotlib.pyplot as plt\n",
    "import seaborn as sns\n",
    "from ast import literal_eval"
   ]
  },
  {
   "cell_type": "code",
   "execution_count": 2,
   "metadata": {},
   "outputs": [],
   "source": [
    "metadata = pd.read_csv('movies_metadata.csv', low_memory = False)\n",
    "# metadata.head().T"
   ]
  },
  {
   "cell_type": "code",
   "execution_count": 3,
   "metadata": {},
   "outputs": [],
   "source": [
    "metadata.drop(metadata.index[metadata['id'] == '1997-08-20'], inplace = True)"
   ]
  },
  {
   "cell_type": "code",
   "execution_count": 4,
   "metadata": {},
   "outputs": [],
   "source": [
    "metadata.drop(metadata.index[metadata['id'] == '2012-09-29'], inplace = True)"
   ]
  },
  {
   "cell_type": "code",
   "execution_count": 5,
   "metadata": {},
   "outputs": [],
   "source": [
    "metadata.drop(metadata.index[metadata['id'] == '2014-01-01'], inplace = True)"
   ]
  },
  {
   "cell_type": "code",
   "execution_count": 6,
   "metadata": {},
   "outputs": [],
   "source": [
    "metadata['id'] = metadata['id'].astype(str).astype(int)"
   ]
  },
  {
   "cell_type": "code",
   "execution_count": 7,
   "metadata": {},
   "outputs": [],
   "source": [
    "cred = pd.read_csv('credits.csv')\n",
    "# cred.head().T"
   ]
  },
  {
   "cell_type": "code",
   "execution_count": 8,
   "metadata": {},
   "outputs": [
    {
     "data": {
      "text/plain": [
       "Index(['adult', 'belongs_to_collection', 'budget', 'genres', 'homepage', 'id',\n",
       "       'imdb_id', 'original_language', 'original_title', 'overview',\n",
       "       'popularity', 'poster_path', 'production_companies',\n",
       "       'production_countries', 'release_date', 'revenue', 'runtime',\n",
       "       'spoken_languages', 'status', 'tagline', 'title', 'video',\n",
       "       'vote_average', 'vote_count', 'cast', 'crew'],\n",
       "      dtype='object')"
      ]
     },
     "execution_count": 8,
     "metadata": {},
     "output_type": "execute_result"
    }
   ],
   "source": [
    "metadata= metadata.merge(cred,on='id')\n",
    "metadata.columns"
   ]
  },
  {
   "cell_type": "code",
   "execution_count": 9,
   "metadata": {},
   "outputs": [],
   "source": [
    "metadata = metadata.drop(['belongs_to_collection', 'homepage', 'poster_path'], axis=1)"
   ]
  },
  {
   "cell_type": "code",
   "execution_count": 10,
   "metadata": {},
   "outputs": [],
   "source": [
    "metadata['budget'] = metadata['budget'].astype(str).astype(float)"
   ]
  },
  {
   "cell_type": "code",
   "execution_count": 11,
   "metadata": {},
   "outputs": [],
   "source": [
    "metadata['genres'] = metadata['genres'].apply(literal_eval)"
   ]
  },
  {
   "cell_type": "code",
   "execution_count": 12,
   "metadata": {},
   "outputs": [],
   "source": [
    "gen = []\n",
    "\n",
    "for i in metadata['genres']:\n",
    "    l = []\n",
    "    \n",
    "    for j in i:\n",
    "        l.append(j['name'])\n",
    "#         print(j['name'])\n",
    "    gen.append(l)"
   ]
  },
  {
   "cell_type": "code",
   "execution_count": 13,
   "metadata": {},
   "outputs": [],
   "source": [
    "metadata['genres'] = pd.Series(gen)"
   ]
  },
  {
   "cell_type": "code",
   "execution_count": 14,
   "metadata": {},
   "outputs": [],
   "source": [
    "metadata['cast'] = metadata['cast'].apply(literal_eval)"
   ]
  },
  {
   "cell_type": "code",
   "execution_count": 15,
   "metadata": {},
   "outputs": [],
   "source": [
    "actors = []\n",
    "\n",
    "for i in metadata['cast']:\n",
    "    l = []\n",
    "    for j in i:\n",
    "        l.append(j['name'])\n",
    "    \n",
    "    actors.append(l)"
   ]
  },
  {
   "cell_type": "code",
   "execution_count": 16,
   "metadata": {},
   "outputs": [],
   "source": [
    "metadata['actors'] = pd.Series(actors)"
   ]
  },
  {
   "cell_type": "code",
   "execution_count": 17,
   "metadata": {},
   "outputs": [],
   "source": [
    "metadata['crew']= metadata['crew'].apply(literal_eval)"
   ]
  },
  {
   "cell_type": "code",
   "execution_count": 18,
   "metadata": {},
   "outputs": [],
   "source": [
    "director = []\n",
    "c = 0\n",
    "\n",
    "for i in metadata['crew']:\n",
    "    l = []\n",
    "    for x in i:\n",
    "        if x['job'] =='Director':\n",
    "            l.append(x['name'])\n",
    "#     print(l)\n",
    "    director.append(l)\n"
   ]
  },
  {
   "cell_type": "code",
   "execution_count": 19,
   "metadata": {},
   "outputs": [],
   "source": [
    "metadata['directors'] = pd.Series(director)"
   ]
  },
  {
   "cell_type": "code",
   "execution_count": 20,
   "metadata": {},
   "outputs": [],
   "source": [
    "df = metadata.copy()"
   ]
  },
  {
   "cell_type": "code",
   "execution_count": 21,
   "metadata": {},
   "outputs": [
    {
     "data": {
      "text/plain": [
       "5.61823212913114"
      ]
     },
     "execution_count": 21,
     "metadata": {},
     "output_type": "execute_result"
    }
   ],
   "source": [
    "C = df['vote_average'].mean()\n",
    "C"
   ]
  },
  {
   "cell_type": "code",
   "execution_count": 22,
   "metadata": {},
   "outputs": [
    {
     "data": {
      "text/plain": [
       "160.0"
      ]
     },
     "execution_count": 22,
     "metadata": {},
     "output_type": "execute_result"
    }
   ],
   "source": [
    "M = df['vote_count'].quantile(0.9)\n",
    "M"
   ]
  },
  {
   "cell_type": "code",
   "execution_count": 23,
   "metadata": {},
   "outputs": [
    {
     "data": {
      "text/plain": [
       "(4563, 25)"
      ]
     },
     "execution_count": 23,
     "metadata": {},
     "output_type": "execute_result"
    }
   ],
   "source": [
    "simple = df.copy().loc[df['vote_count'] >= M]\n",
    "simple.shape"
   ]
  },
  {
   "cell_type": "code",
   "execution_count": 24,
   "metadata": {},
   "outputs": [],
   "source": [
    "def weightedRating(x, m =M, c=C):\n",
    "    v = x['vote_count']\n",
    "    R = x['vote_average']\n",
    "    \n",
    "    return (v/(v+m) * R) + (m/(m+v) * C)"
   ]
  },
  {
   "cell_type": "code",
   "execution_count": 25,
   "metadata": {},
   "outputs": [],
   "source": [
    "simple['rating_score'] = df.apply(weightedRating, axis = 1)"
   ]
  },
  {
   "cell_type": "code",
   "execution_count": 26,
   "metadata": {},
   "outputs": [],
   "source": [
    "simple = simple.sort_values('rating_score', ascending = False)"
   ]
  },
  {
   "cell_type": "code",
   "execution_count": 43,
   "metadata": {},
   "outputs": [
    {
     "data": {
      "text/html": [
       "<div>\n",
       "<style scoped>\n",
       "    .dataframe tbody tr th:only-of-type {\n",
       "        vertical-align: middle;\n",
       "    }\n",
       "\n",
       "    .dataframe tbody tr th {\n",
       "        vertical-align: top;\n",
       "    }\n",
       "\n",
       "    .dataframe thead th {\n",
       "        text-align: right;\n",
       "    }\n",
       "</style>\n",
       "<table border=\"1\" class=\"dataframe\">\n",
       "  <thead>\n",
       "    <tr style=\"text-align: right;\">\n",
       "      <th></th>\n",
       "      <th>title</th>\n",
       "      <th>vote_average</th>\n",
       "      <th>rating_score</th>\n",
       "      <th>actors</th>\n",
       "    </tr>\n",
       "  </thead>\n",
       "  <tbody>\n",
       "    <tr>\n",
       "      <th>314</th>\n",
       "      <td>The Shawshank Redemption</td>\n",
       "      <td>8.5</td>\n",
       "      <td>8.445870</td>\n",
       "      <td>[Tim Robbins, Morgan Freeman, Bob Gunton, Clan...</td>\n",
       "    </tr>\n",
       "    <tr>\n",
       "      <th>837</th>\n",
       "      <td>The Godfather</td>\n",
       "      <td>8.5</td>\n",
       "      <td>8.425439</td>\n",
       "      <td>[Marlon Brando, Al Pacino, James Caan, Richard...</td>\n",
       "    </tr>\n",
       "    <tr>\n",
       "      <th>10345</th>\n",
       "      <td>Dilwale Dulhania Le Jayenge</td>\n",
       "      <td>9.1</td>\n",
       "      <td>8.421458</td>\n",
       "      <td>[Shah Rukh Khan, Kajol, Amrish Puri, Anupam Kh...</td>\n",
       "    </tr>\n",
       "    <tr>\n",
       "      <th>12525</th>\n",
       "      <td>The Dark Knight</td>\n",
       "      <td>8.3</td>\n",
       "      <td>8.265477</td>\n",
       "      <td>[Christian Bale, Michael Caine, Heath Ledger, ...</td>\n",
       "    </tr>\n",
       "    <tr>\n",
       "      <th>2854</th>\n",
       "      <td>Fight Club</td>\n",
       "      <td>8.3</td>\n",
       "      <td>8.256385</td>\n",
       "      <td>[Edward Norton, Brad Pitt, Meat Loaf, Jared Le...</td>\n",
       "    </tr>\n",
       "    <tr>\n",
       "      <th>...</th>\n",
       "      <td>...</td>\n",
       "      <td>...</td>\n",
       "      <td>...</td>\n",
       "      <td>...</td>\n",
       "    </tr>\n",
       "    <tr>\n",
       "      <th>9746</th>\n",
       "      <td>Son of the Mask</td>\n",
       "      <td>3.6</td>\n",
       "      <td>4.238176</td>\n",
       "      <td>[Jamie Kennedy, Alan Cumming, Traylor Howard, ...</td>\n",
       "    </tr>\n",
       "    <tr>\n",
       "      <th>12955</th>\n",
       "      <td>Disaster Movie</td>\n",
       "      <td>3.1</td>\n",
       "      <td>4.082725</td>\n",
       "      <td>[Matt Lanter, Vanessa Lachey, Nicole Ari Parke...</td>\n",
       "    </tr>\n",
       "    <tr>\n",
       "      <th>3482</th>\n",
       "      <td>Battlefield Earth</td>\n",
       "      <td>3.0</td>\n",
       "      <td>3.999802</td>\n",
       "      <td>[John Travolta, Barry Pepper, Forest Whitaker,...</td>\n",
       "    </tr>\n",
       "    <tr>\n",
       "      <th>11602</th>\n",
       "      <td>Epic Movie</td>\n",
       "      <td>3.2</td>\n",
       "      <td>3.983233</td>\n",
       "      <td>[Kal Penn, Adam Campbell, Jennifer Coolidge, J...</td>\n",
       "    </tr>\n",
       "    <tr>\n",
       "      <th>13620</th>\n",
       "      <td>Dragonball Evolution</td>\n",
       "      <td>2.9</td>\n",
       "      <td>3.584909</td>\n",
       "      <td>[Chow Yun-fat, Justin Chatwin, Joon Park, Jami...</td>\n",
       "    </tr>\n",
       "  </tbody>\n",
       "</table>\n",
       "<p>4563 rows × 4 columns</p>\n",
       "</div>"
      ],
      "text/plain": [
       "                             title  vote_average  rating_score  \\\n",
       "314       The Shawshank Redemption           8.5      8.445870   \n",
       "837                  The Godfather           8.5      8.425439   \n",
       "10345  Dilwale Dulhania Le Jayenge           9.1      8.421458   \n",
       "12525              The Dark Knight           8.3      8.265477   \n",
       "2854                    Fight Club           8.3      8.256385   \n",
       "...                            ...           ...           ...   \n",
       "9746               Son of the Mask           3.6      4.238176   \n",
       "12955               Disaster Movie           3.1      4.082725   \n",
       "3482             Battlefield Earth           3.0      3.999802   \n",
       "11602                   Epic Movie           3.2      3.983233   \n",
       "13620         Dragonball Evolution           2.9      3.584909   \n",
       "\n",
       "                                                  actors  \n",
       "314    [Tim Robbins, Morgan Freeman, Bob Gunton, Clan...  \n",
       "837    [Marlon Brando, Al Pacino, James Caan, Richard...  \n",
       "10345  [Shah Rukh Khan, Kajol, Amrish Puri, Anupam Kh...  \n",
       "12525  [Christian Bale, Michael Caine, Heath Ledger, ...  \n",
       "2854   [Edward Norton, Brad Pitt, Meat Loaf, Jared Le...  \n",
       "...                                                  ...  \n",
       "9746   [Jamie Kennedy, Alan Cumming, Traylor Howard, ...  \n",
       "12955  [Matt Lanter, Vanessa Lachey, Nicole Ari Parke...  \n",
       "3482   [John Travolta, Barry Pepper, Forest Whitaker,...  \n",
       "11602  [Kal Penn, Adam Campbell, Jennifer Coolidge, J...  \n",
       "13620  [Chow Yun-fat, Justin Chatwin, Joon Park, Jami...  \n",
       "\n",
       "[4563 rows x 4 columns]"
      ]
     },
     "execution_count": 43,
     "metadata": {},
     "output_type": "execute_result"
    }
   ],
   "source": [
    "simple[['title', 'vote_average', 'rating_score', 'actors']]"
   ]
  }
 ],
 "metadata": {
  "kernelspec": {
   "display_name": "Python 3",
   "language": "python",
   "name": "python3"
  },
  "language_info": {
   "codemirror_mode": {
    "name": "ipython",
    "version": 3
   },
   "file_extension": ".py",
   "mimetype": "text/x-python",
   "name": "python",
   "nbconvert_exporter": "python",
   "pygments_lexer": "ipython3",
   "version": "3.8.5"
  }
 },
 "nbformat": 4,
 "nbformat_minor": 4
}
