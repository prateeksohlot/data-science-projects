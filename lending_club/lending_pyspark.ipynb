{
  "nbformat": 4,
  "nbformat_minor": 0,
  "metadata": {
    "colab": {
      "name": "lending_pyspark.ipynb",
      "provenance": [],
      "toc_visible": true,
      "mount_file_id": "1CWBZogcmgVaBCub6CVQz3wNFKedGpVwj",
      "authorship_tag": "ABX9TyPIbvZXIEcAXsN3zSPt0zlO"
    },
    "kernelspec": {
      "name": "python3",
      "display_name": "Python 3"
    }
  },
  "cells": [
    {
      "cell_type": "markdown",
      "metadata": {
        "id": "na75kIpfLaww",
        "colab_type": "text"
      },
      "source": [
        "Author: Prateek Sohlot\n",
        "\n",
        "The project uses Apache Spark and other relevant libraries to clean data, EDA and training basic models."
      ]
    },
    {
      "cell_type": "markdown",
      "metadata": {
        "id": "3nSE_5D3L09P",
        "colab_type": "text"
      },
      "source": [
        "## Initiating Apache Pyspark(API for Python)"
      ]
    },
    {
      "cell_type": "code",
      "metadata": {
        "id": "Kyt03eCmKxF-",
        "colab_type": "code",
        "colab": {
          "base_uri": "https://localhost:8080/",
          "height": 266
        },
        "outputId": "97656912-ec14-4523-d145-7db0ebf9e360"
      },
      "source": [
        "!pip install pyspark"
      ],
      "execution_count": 1,
      "outputs": [
        {
          "output_type": "stream",
          "text": [
            "Collecting pyspark\n",
            "\u001b[?25l  Downloading https://files.pythonhosted.org/packages/8e/b0/bf9020b56492281b9c9d8aae8f44ff51e1bc91b3ef5a884385cb4e389a40/pyspark-3.0.0.tar.gz (204.7MB)\n",
            "\u001b[K     |████████████████████████████████| 204.7MB 64kB/s \n",
            "\u001b[?25hCollecting py4j==0.10.9\n",
            "\u001b[?25l  Downloading https://files.pythonhosted.org/packages/9e/b6/6a4fb90cd235dc8e265a6a2067f2a2c99f0d91787f06aca4bcf7c23f3f80/py4j-0.10.9-py2.py3-none-any.whl (198kB)\n",
            "\u001b[K     |████████████████████████████████| 204kB 42.8MB/s \n",
            "\u001b[?25hBuilding wheels for collected packages: pyspark\n",
            "  Building wheel for pyspark (setup.py) ... \u001b[?25l\u001b[?25hdone\n",
            "  Created wheel for pyspark: filename=pyspark-3.0.0-py2.py3-none-any.whl size=205044182 sha256=2902e84918ab593de5e16e5020eff0412d31d26d04c6420f0581817dfb74bb0d\n",
            "  Stored in directory: /root/.cache/pip/wheels/57/27/4d/ddacf7143f8d5b76c45c61ee2e43d9f8492fc5a8e78ebd7d37\n",
            "Successfully built pyspark\n",
            "Installing collected packages: py4j, pyspark\n",
            "Successfully installed py4j-0.10.9 pyspark-3.0.0\n"
          ],
          "name": "stdout"
        }
      ]
    },
    {
      "cell_type": "code",
      "metadata": {
        "id": "1DMO0ENdMD4L",
        "colab_type": "code",
        "colab": {
          "base_uri": "https://localhost:8080/",
          "height": 217
        },
        "outputId": "50aa4b4e-17e6-4327-919e-0c49e8d64e9f"
      },
      "source": [
        "from pyspark.sql import SparkSession\n",
        "\n",
        "spark = SparkSession \\\n",
        "    .builder \\\n",
        "    .appName(\"Big_Data_Project\") \\\n",
        "    .config(\"spark.some.config.option\", \"some-value\") \\\n",
        "    .getOrCreate()\n",
        "\n",
        "spark"
      ],
      "execution_count": 2,
      "outputs": [
        {
          "output_type": "execute_result",
          "data": {
            "text/html": [
              "\n",
              "            <div>\n",
              "                <p><b>SparkSession - in-memory</b></p>\n",
              "                \n",
              "        <div>\n",
              "            <p><b>SparkContext</b></p>\n",
              "\n",
              "            <p><a href=\"http://c7c099d57415:4040\">Spark UI</a></p>\n",
              "\n",
              "            <dl>\n",
              "              <dt>Version</dt>\n",
              "                <dd><code>v3.0.0</code></dd>\n",
              "              <dt>Master</dt>\n",
              "                <dd><code>local[*]</code></dd>\n",
              "              <dt>AppName</dt>\n",
              "                <dd><code>Big_Data_Project</code></dd>\n",
              "            </dl>\n",
              "        </div>\n",
              "        \n",
              "            </div>\n",
              "        "
            ],
            "text/plain": [
              "<pyspark.sql.session.SparkSession at 0x7fc711f7a080>"
            ]
          },
          "metadata": {
            "tags": []
          },
          "execution_count": 2
        }
      ]
    },
    {
      "cell_type": "code",
      "metadata": {
        "id": "WIQioEYjMFg2",
        "colab_type": "code",
        "colab": {
          "base_uri": "https://localhost:8080/",
          "height": 35
        },
        "outputId": "e2aee178-9966-4e33-cd52-577f2412870a"
      },
      "source": [
        "sc = spark.sparkContext\n",
        "sc.version"
      ],
      "execution_count": 3,
      "outputs": [
        {
          "output_type": "execute_result",
          "data": {
            "application/vnd.google.colaboratory.intrinsic+json": {
              "type": "string"
            },
            "text/plain": [
              "'3.0.0'"
            ]
          },
          "metadata": {
            "tags": []
          },
          "execution_count": 3
        }
      ]
    },
    {
      "cell_type": "markdown",
      "metadata": {
        "id": "qB0mb2Z0MJhF",
        "colab_type": "text"
      },
      "source": [
        "## Importing Relevant Libraries"
      ]
    },
    {
      "cell_type": "code",
      "metadata": {
        "id": "K-mmkbrsMHPB",
        "colab_type": "code",
        "colab": {
          "base_uri": "https://localhost:8080/",
          "height": 72
        },
        "outputId": "f8f1af44-9135-4522-81d3-d7988c70ce87"
      },
      "source": [
        "# Pyspark Libraries\n",
        "\n",
        "\n",
        "#Other Libraries\n",
        "import pandas as pd # for creating dataframes\n",
        "import matplotlib.pyplot as plt #Basic Plotting\n",
        "import seaborn as sns #Prettier Plot"
      ],
      "execution_count": 4,
      "outputs": [
        {
          "output_type": "stream",
          "text": [
            "/usr/local/lib/python3.6/dist-packages/statsmodels/tools/_testing.py:19: FutureWarning: pandas.util.testing is deprecated. Use the functions in the public API at pandas.testing instead.\n",
            "  import pandas.util.testing as tm\n"
          ],
          "name": "stderr"
        }
      ]
    },
    {
      "cell_type": "markdown",
      "metadata": {
        "id": "6zmbK7H9PBkA",
        "colab_type": "text"
      },
      "source": [
        "## Cleaning the data"
      ]
    },
    {
      "cell_type": "code",
      "metadata": {
        "id": "3zaniRIeMnao",
        "colab_type": "code",
        "colab": {
          "base_uri": "https://localhost:8080/",
          "height": 34
        },
        "outputId": "0dbfdcfb-a4a2-4143-b070-a09c5bc173ff"
      },
      "source": [
        "df = spark.read.csv('/content/drive/My Drive/dataset/loan.csv', header = True)\n",
        "\n",
        "df.count()"
      ],
      "execution_count": 5,
      "outputs": [
        {
          "output_type": "execute_result",
          "data": {
            "text/plain": [
              "2260668"
            ]
          },
          "metadata": {
            "tags": []
          },
          "execution_count": 5
        }
      ]
    },
    {
      "cell_type": "code",
      "metadata": {
        "id": "6FauJwvZPSOQ",
        "colab_type": "code",
        "colab": {}
      },
      "source": [
        "'''\n",
        "id, member_id : These columns will be unique to each customer\n",
        "title: It overlaps with purpose of loan\n",
        "'''\n",
        "df = df.drop('id', 'member_id', 'title')"
      ],
      "execution_count": 6,
      "outputs": []
    },
    {
      "cell_type": "code",
      "metadata": {
        "id": "GyRyLjeAP6z3",
        "colab_type": "code",
        "colab": {}
      },
      "source": [
        "# We check for null values and print columns only if the have null columns\n",
        "\n",
        "for col in df.columns:\n",
        "    cnt = df.filter(df[col].isNull()).count()\n",
        "    if cnt != 0:\n",
        "      print(col, \"\\t\", \"with null values: \", cnt)\n",
        "    "
      ],
      "execution_count": null,
      "outputs": []
    },
    {
      "cell_type": "code",
      "metadata": {
        "id": "eS1DQr1cQIDX",
        "colab_type": "code",
        "colab": {}
      },
      "source": [
        ""
      ],
      "execution_count": null,
      "outputs": []
    }
  ]
}