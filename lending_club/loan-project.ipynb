{
 "cells": [
  {
   "cell_type": "code",
   "execution_count": 1,
   "metadata": {},
   "outputs": [
    {
     "data": {
      "text/html": [
       "\n",
       "            <div>\n",
       "                <p><b>SparkSession - in-memory</b></p>\n",
       "                \n",
       "        <div>\n",
       "            <p><b>SparkContext</b></p>\n",
       "\n",
       "            <p><a href=\"http://host.docker.internal:4040\">Spark UI</a></p>\n",
       "\n",
       "            <dl>\n",
       "              <dt>Version</dt>\n",
       "                <dd><code>v3.1.1</code></dd>\n",
       "              <dt>Master</dt>\n",
       "                <dd><code>local[*]</code></dd>\n",
       "              <dt>AppName</dt>\n",
       "                <dd><code>Big_Data_Project</code></dd>\n",
       "            </dl>\n",
       "        </div>\n",
       "        \n",
       "            </div>\n",
       "        "
      ],
      "text/plain": [
       "<pyspark.sql.session.SparkSession at 0x207ea7ec490>"
      ]
     },
     "execution_count": 1,
     "metadata": {},
     "output_type": "execute_result"
    }
   ],
   "source": [
    "from pyspark.sql import SparkSession\n",
    "\n",
    "spark = SparkSession \\\n",
    "    .builder \\\n",
    "    .appName(\"Big_Data_Project\") \\\n",
    "    .config(\"spark.some.config.option\", \"some-value\") \\\n",
    "    .getOrCreate()\n",
    "\n",
    "\n",
    "spark"
   ]
  },
  {
   "cell_type": "code",
   "execution_count": 2,
   "metadata": {},
   "outputs": [],
   "source": [
    "# Pyspark Libraries\n",
    "from pyspark.sql import functions as F\n",
    "from pyspark.sql.functions import *\n",
    "from pyspark.sql import types as T\n",
    "from pyspark.sql.types import StructField,IntegerType, StructType,StringType\n",
    "from pyspark.ml.feature import StringIndexer, Imputer\n",
    "\n",
    "\n",
    "#Other Libraries\n",
    "import numpy as np\n",
    "import pandas as pd # for creating dataframes\n",
    "import matplotlib.pyplot as plt #Basic Plotting\n",
    "%matplotlib inline\n",
    "import seaborn as sns #Prettier Plot\n",
    "from datetime import datetime\n",
    "import warnings\n",
    "warnings.simplefilter(action='ignore', category=FutureWarning)\n",
    "warnings.simplefilter(action='ignore', category=DeprecationWarning)"
   ]
  },
  {
   "cell_type": "code",
   "execution_count": 7,
   "metadata": {},
   "outputs": [
    {
     "data": {
      "text/plain": [
       "2260668"
      ]
     },
     "execution_count": 7,
     "metadata": {},
     "output_type": "execute_result"
    }
   ],
   "source": [
    "df = spark.read.csv('C:/Users/Prateek/Documents/docker/loan.csv', header = True, inferSchema = True)\n",
    "\n",
    "df.count()"
   ]
  },
  {
   "cell_type": "code",
   "execution_count": 8,
   "metadata": {},
   "outputs": [],
   "source": [
    "df = df.drop('debt_settlement_flag_date', 'deferral_term', 'desc', 'dti_joint',\n",
    "       'hardship_amount', 'hardship_dpd', 'hardship_end_date',\n",
    "       'hardship_last_payment_amount', 'hardship_length',\n",
    "       'hardship_loan_status', 'hardship_payoff_balance_amount',\n",
    "       'hardship_reason', 'hardship_start_date', 'hardship_status',\n",
    "       'hardship_type', 'id', 'il_util', 'inq_fi', 'inq_last_12m',\n",
    "       'max_bal_bc', 'member_id', 'mths_since_last_delinq',\n",
    "       'mths_since_last_major_derog', 'mths_since_last_record',\n",
    "       'mths_since_rcnt_il', 'mths_since_recent_bc_dlq',\n",
    "       'mths_since_recent_revol_delinq', 'next_pymnt_d', 'open_acc_6m',\n",
    "       'open_act_il', 'open_il_12m', 'open_il_24m', 'open_rv_12m',\n",
    "       'open_rv_24m', 'orig_projected_additional_accrued_interest',\n",
    "       'payment_plan_start_date', 'revol_bal_joint',\n",
    "       'sec_app_chargeoff_within_12_mths',\n",
    "       'sec_app_collections_12_mths_ex_med', 'sec_app_earliest_cr_line',\n",
    "       'sec_app_inq_last_6mths', 'sec_app_mort_acc',\n",
    "       'sec_app_mths_since_last_major_derog', 'sec_app_num_rev_accts',\n",
    "       'sec_app_open_acc', 'sec_app_open_act_il', 'sec_app_revol_util',\n",
    "       'settlement_amount', 'settlement_date', 'settlement_percentage',\n",
    "       'settlement_status', 'settlement_term', 'title', 'total_bal_il',\n",
    "       'total_cu_tl', 'total_rev_hi_lim', 'url',\n",
    "       'verification_status_joint', 'id', 'member_id', 'zip_code')"
   ]
  },
  {
   "cell_type": "code",
   "execution_count": 9,
   "metadata": {
    "collapsed": true
   },
   "outputs": [
    {
     "name": "stdout",
     "output_type": "stream",
     "text": [
      "loan_amnt   with null values:  0\n",
      "loan_amnt   with % null values:  0.0 %\n",
      "funded_amnt   with null values:  0\n",
      "funded_amnt   with % null values:  0.0 %\n",
      "funded_amnt_inv   with null values:  0\n",
      "funded_amnt_inv   with % null values:  0.0 %\n",
      "term   with null values:  0\n",
      "term   with % null values:  0.0 %\n",
      "int_rate   with null values:  0\n",
      "int_rate   with % null values:  0.0 %\n",
      "installment   with null values:  0\n",
      "installment   with % null values:  0.0 %\n",
      "grade   with null values:  0\n",
      "grade   with % null values:  0.0 %\n",
      "sub_grade   with null values:  0\n",
      "sub_grade   with % null values:  0.0 %\n",
      "emp_title   with null values:  166931\n",
      "emp_title   with % null values:  7.384144863376665 %\n",
      "emp_length   with null values:  0\n",
      "emp_length   with % null values:  0.0 %\n",
      "home_ownership   with null values:  0\n",
      "home_ownership   with % null values:  0.0 %\n",
      "annual_inc   with null values:  4\n",
      "annual_inc   with % null values:  0.00017693885170224022 %\n",
      "verification_status   with null values:  0\n",
      "verification_status   with % null values:  0.0 %\n",
      "issue_d   with null values:  0\n",
      "issue_d   with % null values:  0.0 %\n",
      "loan_status   with null values:  0\n",
      "loan_status   with % null values:  0.0 %\n",
      "pymnt_plan   with null values:  0\n",
      "pymnt_plan   with % null values:  0.0 %\n",
      "purpose   with null values:  1\n",
      "purpose   with % null values:  4.4234712925560055e-05 %\n",
      "addr_state   with null values:  1\n",
      "addr_state   with % null values:  4.4234712925560055e-05 %\n",
      "dti   with null values:  1712\n",
      "dti   with % null values:  0.0757298285285588 %\n",
      "delinq_2yrs   with null values:  30\n",
      "delinq_2yrs   with % null values:  0.0013270413877668017 %\n",
      "earliest_cr_line   with null values:  30\n",
      "earliest_cr_line   with % null values:  0.0013270413877668017 %\n",
      "inq_last_6mths   with null values:  31\n",
      "inq_last_6mths   with % null values:  0.0013712761006923616 %\n",
      "open_acc   with null values:  110\n",
      "open_acc   with % null values:  0.0048658184218116065 %\n",
      "pub_rec   with null values:  92\n",
      "pub_rec   with % null values:  0.004069593589151525 %\n",
      "revol_bal   with null values:  54\n",
      "revol_bal   with % null values:  0.002388674497980243 %\n",
      "revol_util   with null values:  1834\n",
      "revol_util   with % null values:  0.08112646350547714 %\n",
      "total_acc   with null values:  50\n",
      "total_acc   with % null values:  0.0022117356462780027 %\n",
      "initial_list_status   with null values:  17\n",
      "initial_list_status   with % null values:  0.0007519901197345209 %\n",
      "out_prncp   with null values:  17\n",
      "out_prncp   with % null values:  0.0007519901197345209 %\n",
      "out_prncp_inv   with null values:  21\n",
      "out_prncp_inv   with % null values:  0.0009289289714367612 %\n",
      "total_pymnt   with null values:  13\n",
      "total_pymnt   with % null values:  0.0005750512680322808 %\n",
      "total_pymnt_inv   with null values:  11\n",
      "total_pymnt_inv   with % null values:  0.0004865818421811607 %\n",
      "total_rec_prncp   with null values:  9\n",
      "total_rec_prncp   with % null values:  0.0003981124163300405 %\n",
      "total_rec_int   with null values:  3\n",
      "total_rec_int   with % null values:  0.00013270413877668015 %\n",
      "total_rec_late_fee   with null values:  3\n",
      "total_rec_late_fee   with % null values:  0.00013270413877668015 %\n",
      "recoveries   with null values:  2\n",
      "recoveries   with % null values:  8.846942585112011e-05 %\n",
      "collection_recovery_fee   with null values:  6\n",
      "collection_recovery_fee   with % null values:  0.0002654082775533603 %\n",
      "last_pymnt_d   with null values:  2433\n",
      "last_pymnt_d   with % null values:  0.10762305654788762 %\n",
      "last_pymnt_amnt   with null values:  3\n",
      "last_pymnt_amnt   with % null values:  0.00013270413877668015 %\n",
      "last_credit_pull_d   with null values:  126\n",
      "last_credit_pull_d   with % null values:  0.005573573828620567 %\n",
      "collections_12_mths_ex_med   with null values:  188\n",
      "collections_12_mths_ex_med   with % null values:  0.00831612603000529 %\n",
      "policy_code   with null values:  80\n",
      "policy_code   with % null values:  0.0035387770340448046 %\n",
      "application_type   with null values:  61\n",
      "application_type   with % null values:  0.0026983174884591633 %\n",
      "annual_inc_joint   with null values:  2139751\n",
      "annual_inc_joint   with % null values:  94.65127121718005 %\n",
      "acc_now_delinq   with null values:  191\n",
      "acc_now_delinq   with % null values:  0.008448830168781972 %\n",
      "tot_coll_amt   with null values:  70146\n",
      "tot_coll_amt   with % null values:  3.1028881728763356 %\n",
      "tot_cur_bal   with null values:  70177\n",
      "tot_cur_bal   with % null values:  3.104259448977028 %\n",
      "all_util   with null values:  866341\n",
      "all_util   with % null values:  38.32234543064262 %\n",
      "acc_open_past_24mths   with null values:  50027\n",
      "acc_open_past_24mths   with % null values:  2.2129299835269927 %\n",
      "avg_cur_bal   with null values:  70343\n",
      "avg_cur_bal   with % null values:  3.111602411322671 %\n",
      "bc_open_to_buy   with null values:  74933\n",
      "bc_open_to_buy   with % null values:  3.314639743650992 %\n",
      "bc_util   with null values:  76070\n",
      "bc_util   with % null values:  3.3649346122473536 %\n",
      "chargeoff_within_12_mths   with null values:  399\n",
      "chargeoff_within_12_mths   with % null values:  0.017649650457298462 %\n",
      "delinq_amnt   with null values:  225\n",
      "delinq_amnt   with % null values:  0.009952810408251012 %\n",
      "mo_sin_old_il_acct   with null values:  138970\n",
      "mo_sin_old_il_acct   with % null values:  6.147298055265081 %\n",
      "mo_sin_old_rev_tl_op   with null values:  70192\n",
      "mo_sin_old_rev_tl_op   with % null values:  3.1049229696709113 %\n",
      "mo_sin_rcnt_rev_tl_op   with null values:  70216\n",
      "mo_sin_rcnt_rev_tl_op   with % null values:  3.105984602781125 %\n",
      "mo_sin_rcnt_tl   with null values:  70238\n",
      "mo_sin_rcnt_tl   with % null values:  3.106957766465487 %\n",
      "mort_acc   with null values:  50005\n",
      "mort_acc   with % null values:  2.2119568198426305 %\n",
      "mths_since_recent_bc   with null values:  73392\n",
      "mths_since_recent_bc   with % null values:  3.2464740510327035 %\n",
      "mths_since_recent_inq   with null values:  295413\n",
      "mths_since_recent_inq   with % null values:  13.067509249478473 %\n",
      "num_accts_ever_120_pd   with null values:  70264\n",
      "num_accts_ever_120_pd   with % null values:  3.108107869001552 %\n",
      "num_actv_bc_tl   with null values:  70267\n",
      "num_actv_bc_tl   with % null values:  3.1082405731403284 %\n",
      "num_actv_rev_tl   with null values:  70274\n",
      "num_actv_rev_tl   with % null values:  3.108550216130807 %\n",
      "num_bc_sats   with null values:  58588\n",
      "num_bc_sats   with % null values:  2.5916233608827124 %\n",
      "num_bc_tl   with null values:  70274\n",
      "num_bc_tl   with % null values:  3.108550216130807 %\n",
      "num_il_tl   with null values:  70269\n",
      "num_il_tl   with % null values:  3.10832904256618 %\n",
      "num_op_rev_tl   with null values:  70269\n",
      "num_op_rev_tl   with % null values:  3.10832904256618 %\n",
      "num_rev_accts   with null values:  70275\n",
      "num_rev_accts   with % null values:  3.1085944508437326 %\n",
      "num_rev_tl_bal_gt_0   with null values:  70274\n",
      "num_rev_tl_bal_gt_0   with % null values:  3.108550216130807 %\n",
      "num_sats   with null values:  58588\n",
      "num_sats   with % null values:  2.5916233608827124 %\n",
      "num_tl_120dpd_2m   with null values:  153656\n",
      "num_tl_120dpd_2m   with % null values:  6.796929049289855 %\n",
      "num_tl_30dpd   with null values:  70276\n",
      "num_tl_30dpd   with % null values:  3.1086386855566586 %\n",
      "num_tl_90g_dpd_24m   with null values:  70274\n",
      "num_tl_90g_dpd_24m   with % null values:  3.108550216130807 %\n",
      "num_tl_op_past_12m   with null values:  70274\n",
      "num_tl_op_past_12m   with % null values:  3.108550216130807 %\n",
      "pct_tl_nvr_dlq   with null values:  70430\n",
      "pct_tl_nvr_dlq   with % null values:  3.1154508313471947 %\n",
      "percent_bc_gt_75   with null values:  75378\n",
      "percent_bc_gt_75   with % null values:  3.334324190902866 %\n",
      "pub_rec_bankruptcies   with null values:  1604\n",
      "pub_rec_bankruptcies   with % null values:  0.07095247953259833 %\n",
      "tax_liens   with null values:  305\n",
      "tax_liens   with % null values:  0.013491587442295816 %\n",
      "tot_hi_cred_lim   with null values:  70179\n",
      "tot_hi_cred_lim   with % null values:  3.1043479184028793 %\n",
      "total_bal_ex_mort   with null values:  49948\n",
      "total_bal_ex_mort   with % null values:  2.2094354412058737 %\n",
      "total_bc_limit   with null values:  49970\n",
      "total_bc_limit   with % null values:  2.210408604890236 %\n",
      "total_il_high_credit_limit   with null values:  70238\n",
      "total_il_high_credit_limit   with % null values:  3.106957766465487 %\n",
      "hardship_flag   with null values:  249\n",
      "hardship_flag   with % null values:  0.011014443518464454 %\n",
      "disbursement_method   with null values:  255\n",
      "disbursement_method   with % null values:  0.011279851796017815 %\n"
     ]
    },
    {
     "name": "stdout",
     "output_type": "stream",
     "text": [
      "debt_settlement_flag   with null values:  193\n",
      "debt_settlement_flag   with % null values:  0.008537299594633091 %\n"
     ]
    }
   ],
   "source": [
    "#check columns for missing values\n",
    "# we drop columns with more than 30% missing values since imputing them could introduce bias in data\n",
    "droplist = []\n",
    "count = df.count()\n",
    "for col in df.columns:\n",
    "    cnt = df.filter(df[col].isNull()).count()\n",
    "    null_per = (cnt/count)*100\n",
    "    print(col, \" \", \"with null values: \", cnt)\n",
    "    print(col, \" \", \"with % null values: \", null_per, '%')\n",
    "    if null_per > 30:\n",
    "        droplist.append(col)"
   ]
  },
  {
   "cell_type": "code",
   "execution_count": 10,
   "metadata": {},
   "outputs": [
    {
     "data": {
      "text/plain": [
       "['annual_inc_joint', 'all_util']"
      ]
     },
     "execution_count": 10,
     "metadata": {},
     "output_type": "execute_result"
    }
   ],
   "source": [
    "droplist"
   ]
  },
  {
   "cell_type": "code",
   "execution_count": 14,
   "metadata": {},
   "outputs": [],
   "source": [
    "red_df = df.drop(*droplist).na.drop()"
   ]
  },
  {
   "cell_type": "code",
   "execution_count": 15,
   "metadata": {},
   "outputs": [
    {
     "data": {
      "text/plain": [
       "1669113"
      ]
     },
     "execution_count": 15,
     "metadata": {},
     "output_type": "execute_result"
    }
   ],
   "source": [
    "red_df.count()"
   ]
  },
  {
   "cell_type": "code",
   "execution_count": 16,
   "metadata": {
    "collapsed": true
   },
   "outputs": [
    {
     "data": {
      "text/plain": [
       "[('loan_amnt', 'int'),\n",
       " ('funded_amnt', 'int'),\n",
       " ('funded_amnt_inv', 'double'),\n",
       " ('term', 'string'),\n",
       " ('int_rate', 'double'),\n",
       " ('installment', 'double'),\n",
       " ('grade', 'string'),\n",
       " ('sub_grade', 'string'),\n",
       " ('emp_title', 'string'),\n",
       " ('emp_length', 'string'),\n",
       " ('home_ownership', 'string'),\n",
       " ('annual_inc', 'string'),\n",
       " ('verification_status', 'string'),\n",
       " ('issue_d', 'string'),\n",
       " ('loan_status', 'string'),\n",
       " ('pymnt_plan', 'string'),\n",
       " ('purpose', 'string'),\n",
       " ('addr_state', 'string'),\n",
       " ('dti', 'string'),\n",
       " ('delinq_2yrs', 'string'),\n",
       " ('earliest_cr_line', 'string'),\n",
       " ('inq_last_6mths', 'string'),\n",
       " ('open_acc', 'string'),\n",
       " ('pub_rec', 'string'),\n",
       " ('revol_bal', 'string'),\n",
       " ('revol_util', 'string'),\n",
       " ('total_acc', 'string'),\n",
       " ('initial_list_status', 'string'),\n",
       " ('out_prncp', 'string'),\n",
       " ('out_prncp_inv', 'string'),\n",
       " ('total_pymnt', 'string'),\n",
       " ('total_pymnt_inv', 'string'),\n",
       " ('total_rec_prncp', 'string'),\n",
       " ('total_rec_int', 'string'),\n",
       " ('total_rec_late_fee', 'string'),\n",
       " ('recoveries', 'string'),\n",
       " ('collection_recovery_fee', 'string'),\n",
       " ('last_pymnt_d', 'string'),\n",
       " ('last_pymnt_amnt', 'string'),\n",
       " ('last_credit_pull_d', 'string'),\n",
       " ('collections_12_mths_ex_med', 'string'),\n",
       " ('policy_code', 'string'),\n",
       " ('application_type', 'string'),\n",
       " ('acc_now_delinq', 'string'),\n",
       " ('tot_coll_amt', 'string'),\n",
       " ('tot_cur_bal', 'string'),\n",
       " ('acc_open_past_24mths', 'int'),\n",
       " ('avg_cur_bal', 'string'),\n",
       " ('bc_open_to_buy', 'int'),\n",
       " ('bc_util', 'string'),\n",
       " ('chargeoff_within_12_mths', 'double'),\n",
       " ('delinq_amnt', 'int'),\n",
       " ('mo_sin_old_il_acct', 'double'),\n",
       " ('mo_sin_old_rev_tl_op', 'int'),\n",
       " ('mo_sin_rcnt_rev_tl_op', 'int'),\n",
       " ('mo_sin_rcnt_tl', 'int'),\n",
       " ('mort_acc', 'int'),\n",
       " ('mths_since_recent_bc', 'int'),\n",
       " ('mths_since_recent_inq', 'int'),\n",
       " ('num_accts_ever_120_pd', 'int'),\n",
       " ('num_actv_bc_tl', 'int'),\n",
       " ('num_actv_rev_tl', 'int'),\n",
       " ('num_bc_sats', 'int'),\n",
       " ('num_bc_tl', 'int'),\n",
       " ('num_il_tl', 'int'),\n",
       " ('num_op_rev_tl', 'int'),\n",
       " ('num_rev_accts', 'int'),\n",
       " ('num_rev_tl_bal_gt_0', 'int'),\n",
       " ('num_sats', 'int'),\n",
       " ('num_tl_120dpd_2m', 'int'),\n",
       " ('num_tl_30dpd', 'int'),\n",
       " ('num_tl_90g_dpd_24m', 'int'),\n",
       " ('num_tl_op_past_12m', 'int'),\n",
       " ('pct_tl_nvr_dlq', 'double'),\n",
       " ('percent_bc_gt_75', 'double'),\n",
       " ('pub_rec_bankruptcies', 'int'),\n",
       " ('tax_liens', 'int'),\n",
       " ('tot_hi_cred_lim', 'int'),\n",
       " ('total_bal_ex_mort', 'int'),\n",
       " ('total_bc_limit', 'int'),\n",
       " ('total_il_high_credit_limit', 'int'),\n",
       " ('hardship_flag', 'string'),\n",
       " ('disbursement_method', 'string'),\n",
       " ('debt_settlement_flag', 'string')]"
      ]
     },
     "execution_count": 16,
     "metadata": {},
     "output_type": "execute_result"
    }
   ],
   "source": [
    "red_df.dtypes"
   ]
  },
  {
   "cell_type": "markdown",
   "metadata": {},
   "source": [
    "We emphasis on the following:\n",
    "- The ratio of defaulters\n",
    "- The reason for getting the loan issued\n",
    "- The interest rate on issues loans"
   ]
  },
  {
   "cell_type": "code",
   "execution_count": 12,
   "metadata": {},
   "outputs": [],
   "source": [
    "a4dims = (11.7, 8.27)"
   ]
  },
  {
   "cell_type": "markdown",
   "metadata": {},
   "source": [
    "Defaulters(our labels)"
   ]
  },
  {
   "cell_type": "code",
   "execution_count": 17,
   "metadata": {},
   "outputs": [
    {
     "name": "stdout",
     "output_type": "stream",
     "text": [
      "+------------------+------+\n",
      "|loan_status       |count |\n",
      "+------------------+------+\n",
      "|Fully Paid        |772878|\n",
      "|Current           |676833|\n",
      "|Charged Off       |193654|\n",
      "|Late (31-120 days)|16195 |\n",
      "|In Grace Period   |6850  |\n",
      "|Late (16-30 days) |2678  |\n",
      "|Default           |25    |\n",
      "+------------------+------+\n",
      "\n"
     ]
    }
   ],
   "source": [
    "red_df.groupBy(['loan_status']).count().orderBy('count', ascending = False).show(10,  truncate = False)"
   ]
  },
  {
   "cell_type": "code",
   "execution_count": 18,
   "metadata": {},
   "outputs": [
    {
     "name": "stdout",
     "output_type": "stream",
     "text": [
      "+-------+-------+\n",
      "|default|count  |\n",
      "+-------+-------+\n",
      "|0      |1449711|\n",
      "|1      |219402 |\n",
      "+-------+-------+\n",
      "\n"
     ]
    }
   ],
   "source": [
    "data = red_df.withColumn(\"default\", \n",
    "   F.when((red_df.loan_status == 'Fully Paid') | (red_df.loan_status == 'Current') | \\\n",
    "          (red_df.loan_status == 'Does not meet the credit policy. Status:Fully Paid') ,0).otherwise('1'))\n",
    "\n",
    "data = data.drop('loan_status')\n",
    "\n",
    "data.groupBy(['default']).count().orderBy('count', ascending = False).show(10,  truncate = False)"
   ]
  },
  {
   "cell_type": "code",
   "execution_count": 22,
   "metadata": {},
   "outputs": [
    {
     "data": {
      "text/plain": [
       "Text(0, 0.5, 'Number of Customers')"
      ]
     },
     "execution_count": 22,
     "metadata": {},
     "output_type": "execute_result"
    },
    {
     "data": {
      "image/png": "[encoded data removed]",
      "text/plain": [
       "<Figure size 842.4x595.44 with 1 Axes>"
      ]
     },
     "metadata": {
      "needs_background": "light"
     },
     "output_type": "display_data"
    }
   ],
   "source": [
    "defaulters = data.select('default', 'int_rate', 'term').toPandas()\n",
    "\n",
    "fig, ax = plt.subplots(figsize = a4dims)\n",
    "\n",
    "sns.countplot(x = 'default', data = defaulters)\n",
    "ax.set_title('Defaulters', fontsize = 20)\n",
    "ax.set_xlabel('Default Status')\n",
    "ax.set_ylabel('Number of Customers')"
   ]
  },
  {
   "cell_type": "code",
   "execution_count": 24,
   "metadata": {},
   "outputs": [
    {
     "data": {
      "text/plain": [
       "Text(0, 0.5, 'Number of Customers')"
      ]
     },
     "execution_count": 24,
     "metadata": {},
     "output_type": "execute_result"
    },
    {
     "data": {
      "image/png": "[encoded data removed]",
      "text/plain": [
       "<Figure size 842.4x595.44 with 1 Axes>"
      ]
     },
     "metadata": {
      "needs_background": "light"
     },
     "output_type": "display_data"
    }
   ],
   "source": [
    "fig, ax = plt.subplots(figsize = a4dims)\n",
    "\n",
    "sns.countplot(x = 'term',hue ='default', data = defaulters)\n",
    "ax.set_title('Defaulters', fontsize = 20)\n",
    "ax.set_xlabel('Default Status')\n",
    "ax.set_ylabel('Number of Customers')"
   ]
  },
  {
   "cell_type": "markdown",
   "metadata": {},
   "source": [
    "The number of loan defaults are higher on 60 months loan term with respect to number of loans issued."
   ]
  },
  {
   "cell_type": "code",
   "execution_count": 23,
   "metadata": {},
   "outputs": [
    {
     "data": {
      "text/plain": [
       "Text(0, 0.5, 'Interest Rates')"
      ]
     },
     "execution_count": 23,
     "metadata": {},
     "output_type": "execute_result"
    },
    {
     "data": {
      "image/png": "[encoded data removed]",
      "text/plain": [
       "<Figure size 842.4x595.44 with 1 Axes>"
      ]
     },
     "metadata": {
      "needs_background": "light"
     },
     "output_type": "display_data"
    }
   ],
   "source": [
    "fig, ax = plt.subplots(figsize = a4dims)\n",
    "sns.boxplot(x= 'term', y= 'int_rate', hue='default', data= defaulters)\n",
    "ax.set_title('Term Length Default', fontsize = 18)\n",
    "ax.set_xlabel('Term Length')\n",
    "ax.set_ylabel('Interest Rates')"
   ]
  },
  {
   "cell_type": "code",
   "execution_count": null,
   "metadata": {},
   "outputs": [],
   "source": []
  },
  {
   "cell_type": "markdown",
   "metadata": {},
   "source": [
    "Reasons for taking out loan"
   ]
  },
  {
   "cell_type": "code",
   "execution_count": null,
   "metadata": {},
   "outputs": [],
   "source": []
  },
  {
   "cell_type": "code",
   "execution_count": null,
   "metadata": {},
   "outputs": [],
   "source": []
  },
  {
   "cell_type": "code",
   "execution_count": null,
   "metadata": {},
   "outputs": [],
   "source": []
  },
  {
   "cell_type": "code",
   "execution_count": null,
   "metadata": {},
   "outputs": [],
   "source": []
  },
  {
   "cell_type": "code",
   "execution_count": null,
   "metadata": {},
   "outputs": [],
   "source": []
  },
  {
   "cell_type": "code",
   "execution_count": null,
   "metadata": {},
   "outputs": [],
   "source": []
  }
 ],
 "metadata": {
  "kernelspec": {
   "display_name": "Python 3",
   "language": "python",
   "name": "python3"
  },
  "language_info": {
   "codemirror_mode": {
    "name": "ipython",
    "version": 3
   },
   "file_extension": ".py",
   "mimetype": "text/x-python",
   "name": "python",
   "nbconvert_exporter": "python",
   "pygments_lexer": "ipython3",
   "version": "3.8.5"
  }
 },
 "nbformat": 4,
 "nbformat_minor": 4
}
