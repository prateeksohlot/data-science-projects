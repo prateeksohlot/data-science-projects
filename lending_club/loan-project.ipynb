{
 "cells": [
  {
   "cell_type": "code",
   "execution_count": 1,
   "metadata": {},
   "outputs": [
    {
     "data": {
      "text/html": [
       "\n",
       "            <div>\n",
       "                <p><b>SparkSession - in-memory</b></p>\n",
       "                \n",
       "        <div>\n",
       "            <p><b>SparkContext</b></p>\n",
       "\n",
       "            <p><a href=\"http://DESKTOP-3RGTQE2.domain.name:4040\">Spark UI</a></p>\n",
       "\n",
       "            <dl>\n",
       "              <dt>Version</dt>\n",
       "                <dd><code>v3.1.1</code></dd>\n",
       "              <dt>Master</dt>\n",
       "                <dd><code>local[*]</code></dd>\n",
       "              <dt>AppName</dt>\n",
       "                <dd><code>Big_Data_Project</code></dd>\n",
       "            </dl>\n",
       "        </div>\n",
       "        \n",
       "            </div>\n",
       "        "
      ],
      "text/plain": [
       "<pyspark.sql.session.SparkSession at 0x21cf997f460>"
      ]
     },
     "execution_count": 1,
     "metadata": {},
     "output_type": "execute_result"
    }
   ],
   "source": [
    "from pyspark.sql import SparkSession\n",
    "\n",
    "spark = SparkSession \\\n",
    "    .builder \\\n",
    "    .appName(\"Big_Data_Project\") \\\n",
    "    .config(\"spark.some.config.option\", \"some-value\") \\\n",
    "    .getOrCreate()\n",
    "\n",
    "\n",
    "spark"
   ]
  },
  {
   "cell_type": "code",
   "execution_count": 2,
   "metadata": {},
   "outputs": [],
   "source": [
    "# Pyspark Libraries\n",
    "from pyspark.sql import functions as F\n",
    "from pyspark.sql.functions import *\n",
    "from pyspark.sql import types as T\n",
    "from pyspark.sql.types import StructField,IntegerType, StructType,StringType\n",
    "from pyspark.ml.feature import StringIndexer, Imputer\n",
    "\n",
    "\n",
    "#Other Libraries\n",
    "import numpy as np\n",
    "import pandas as pd # for creating dataframes\n",
    "import matplotlib.pyplot as plt #Basic Plotting\n",
    "%matplotlib inline\n",
    "import seaborn as sns #Prettier Plot\n",
    "from datetime import datetime\n",
    "import warnings\n",
    "warnings.simplefilter(action='ignore', category=FutureWarning)\n",
    "warnings.simplefilter(action='ignore', category=DeprecationWarning)"
   ]
  },
  {
   "cell_type": "code",
   "execution_count": 3,
   "metadata": {},
   "outputs": [
    {
     "data": {
      "text/plain": [
       "2260668"
      ]
     },
     "execution_count": 3,
     "metadata": {},
     "output_type": "execute_result"
    }
   ],
   "source": [
    "df = spark.read.csv('C:/Users/Prateek/Documents/data-science-projects/lending_club/loan.csv', header = True, inferSchema = True)\n",
    "\n",
    "df.count()"
   ]
  },
  {
   "cell_type": "code",
   "execution_count": 4,
   "metadata": {},
   "outputs": [],
   "source": [
    "# df.take(5)"
   ]
  },
  {
   "cell_type": "code",
   "execution_count": 5,
   "metadata": {},
   "outputs": [],
   "source": [
    "# These columns were not documented in the description file\n",
    "df = df.drop('debt_settlement_flag_date', 'deferral_term', 'desc', 'dti_joint',\n",
    "       'hardship_amount', 'hardship_dpd', 'hardship_end_date',\n",
    "       'hardship_last_payment_amount', 'hardship_length',\n",
    "       'hardship_loan_status', 'hardship_payoff_balance_amount',\n",
    "       'hardship_reason', 'hardship_start_date', 'hardship_status',\n",
    "       'hardship_type', 'id', 'il_util', 'inq_fi', 'inq_last_12m',\n",
    "       'max_bal_bc', 'member_id', 'mths_since_last_delinq',\n",
    "       'mths_since_last_major_derog', 'mths_since_last_record',\n",
    "       'mths_since_rcnt_il', 'mths_since_recent_bc_dlq',\n",
    "       'mths_since_recent_revol_delinq', 'next_pymnt_d', 'open_acc_6m',\n",
    "       'open_act_il', 'open_il_12m', 'open_il_24m', 'open_rv_12m',\n",
    "       'open_rv_24m', 'orig_projected_additional_accrued_interest',\n",
    "       'payment_plan_start_date', 'revol_bal_joint',\n",
    "       'sec_app_chargeoff_within_12_mths',\n",
    "       'sec_app_collections_12_mths_ex_med', 'sec_app_earliest_cr_line',\n",
    "       'sec_app_inq_last_6mths', 'sec_app_mort_acc',\n",
    "       'sec_app_mths_since_last_major_derog', 'sec_app_num_rev_accts',\n",
    "       'sec_app_open_acc', 'sec_app_open_act_il', 'sec_app_revol_util',\n",
    "       'settlement_amount', 'settlement_date', 'settlement_percentage',\n",
    "       'settlement_status', 'settlement_term', 'title', 'total_bal_il',\n",
    "       'total_cu_tl', 'total_rev_hi_lim', 'url',\n",
    "       'verification_status_joint', 'id', 'member_id', 'zip_code')"
   ]
  },
  {
   "cell_type": "code",
   "execution_count": 6,
   "metadata": {},
   "outputs": [],
   "source": [
    "#check columns for missing values\n",
    "# we drop columns with more than 30% missing values since imputing them could introduce bias in data\n",
    "# droplist = []\n",
    "# count = df.count()\n",
    "# for col in df.columns:\n",
    "#     cnt = df.filter(df[col].isNull()).count()\n",
    "#     null_per = (cnt/count)*100\n",
    "# #     print(col, \" \", \"with null values: \", cnt)\n",
    "# #     print(col, \" \", \"with % null values: \", null_per, '%')\n",
    "#     if null_per > 30:\n",
    "#         droplist.append(col)"
   ]
  },
  {
   "cell_type": "code",
   "execution_count": 7,
   "metadata": {},
   "outputs": [],
   "source": [
    "droplist = ['annual_inc_joint', 'all_util']"
   ]
  },
  {
   "cell_type": "code",
   "execution_count": 8,
   "metadata": {},
   "outputs": [],
   "source": [
    "# we drop the columns on the drop list and all the rows with 1 or more null values \n",
    "red_df = df.drop(*droplist).na.drop()"
   ]
  },
  {
   "cell_type": "code",
   "execution_count": 9,
   "metadata": {},
   "outputs": [
    {
     "data": {
      "text/plain": [
       "1669113"
      ]
     },
     "execution_count": 9,
     "metadata": {},
     "output_type": "execute_result"
    }
   ],
   "source": [
    "red_df.count()"
   ]
  },
  {
   "cell_type": "code",
   "execution_count": 10,
   "metadata": {},
   "outputs": [
    {
     "data": {
      "text/plain": [
       "[('loan_amnt', 'int'),\n",
       " ('funded_amnt', 'int'),\n",
       " ('funded_amnt_inv', 'double'),\n",
       " ('term', 'string'),\n",
       " ('int_rate', 'double'),\n",
       " ('installment', 'double'),\n",
       " ('grade', 'string'),\n",
       " ('sub_grade', 'string'),\n",
       " ('emp_title', 'string'),\n",
       " ('emp_length', 'string'),\n",
       " ('home_ownership', 'string'),\n",
       " ('annual_inc', 'string'),\n",
       " ('verification_status', 'string'),\n",
       " ('issue_d', 'string'),\n",
       " ('loan_status', 'string'),\n",
       " ('pymnt_plan', 'string'),\n",
       " ('purpose', 'string'),\n",
       " ('addr_state', 'string'),\n",
       " ('dti', 'string'),\n",
       " ('delinq_2yrs', 'string'),\n",
       " ('earliest_cr_line', 'string'),\n",
       " ('inq_last_6mths', 'string'),\n",
       " ('open_acc', 'string'),\n",
       " ('pub_rec', 'string'),\n",
       " ('revol_bal', 'string'),\n",
       " ('revol_util', 'string'),\n",
       " ('total_acc', 'string'),\n",
       " ('initial_list_status', 'string'),\n",
       " ('out_prncp', 'string'),\n",
       " ('out_prncp_inv', 'string'),\n",
       " ('total_pymnt', 'string'),\n",
       " ('total_pymnt_inv', 'string'),\n",
       " ('total_rec_prncp', 'string'),\n",
       " ('total_rec_int', 'string'),\n",
       " ('total_rec_late_fee', 'string'),\n",
       " ('recoveries', 'string'),\n",
       " ('collection_recovery_fee', 'string'),\n",
       " ('last_pymnt_d', 'string'),\n",
       " ('last_pymnt_amnt', 'string'),\n",
       " ('last_credit_pull_d', 'string'),\n",
       " ('collections_12_mths_ex_med', 'string'),\n",
       " ('policy_code', 'string'),\n",
       " ('application_type', 'string'),\n",
       " ('acc_now_delinq', 'string'),\n",
       " ('tot_coll_amt', 'string'),\n",
       " ('tot_cur_bal', 'string'),\n",
       " ('acc_open_past_24mths', 'int'),\n",
       " ('avg_cur_bal', 'string'),\n",
       " ('bc_open_to_buy', 'int'),\n",
       " ('bc_util', 'string'),\n",
       " ('chargeoff_within_12_mths', 'double'),\n",
       " ('delinq_amnt', 'int'),\n",
       " ('mo_sin_old_il_acct', 'double'),\n",
       " ('mo_sin_old_rev_tl_op', 'int'),\n",
       " ('mo_sin_rcnt_rev_tl_op', 'int'),\n",
       " ('mo_sin_rcnt_tl', 'int'),\n",
       " ('mort_acc', 'int'),\n",
       " ('mths_since_recent_bc', 'int'),\n",
       " ('mths_since_recent_inq', 'int'),\n",
       " ('num_accts_ever_120_pd', 'int'),\n",
       " ('num_actv_bc_tl', 'int'),\n",
       " ('num_actv_rev_tl', 'int'),\n",
       " ('num_bc_sats', 'int'),\n",
       " ('num_bc_tl', 'int'),\n",
       " ('num_il_tl', 'int'),\n",
       " ('num_op_rev_tl', 'int'),\n",
       " ('num_rev_accts', 'int'),\n",
       " ('num_rev_tl_bal_gt_0', 'int'),\n",
       " ('num_sats', 'int'),\n",
       " ('num_tl_120dpd_2m', 'int'),\n",
       " ('num_tl_30dpd', 'int'),\n",
       " ('num_tl_90g_dpd_24m', 'int'),\n",
       " ('num_tl_op_past_12m', 'int'),\n",
       " ('pct_tl_nvr_dlq', 'double'),\n",
       " ('percent_bc_gt_75', 'double'),\n",
       " ('pub_rec_bankruptcies', 'int'),\n",
       " ('tax_liens', 'int'),\n",
       " ('tot_hi_cred_lim', 'int'),\n",
       " ('total_bal_ex_mort', 'int'),\n",
       " ('total_bc_limit', 'int'),\n",
       " ('total_il_high_credit_limit', 'int'),\n",
       " ('hardship_flag', 'string'),\n",
       " ('disbursement_method', 'string'),\n",
       " ('debt_settlement_flag', 'string')]"
      ]
     },
     "execution_count": 10,
     "metadata": {},
     "output_type": "execute_result"
    }
   ],
   "source": [
    "red_df.dtypes"
   ]
  },
  {
   "cell_type": "markdown",
   "metadata": {},
   "source": [
    "## Defaulters(our labels)"
   ]
  },
  {
   "cell_type": "code",
   "execution_count": 11,
   "metadata": {},
   "outputs": [
    {
     "name": "stdout",
     "output_type": "stream",
     "text": [
      "+------------------+------+\n",
      "|loan_status       |count |\n",
      "+------------------+------+\n",
      "|Fully Paid        |772878|\n",
      "|Current           |676833|\n",
      "|Charged Off       |193654|\n",
      "|Late (31-120 days)|16195 |\n",
      "|In Grace Period   |6850  |\n",
      "|Late (16-30 days) |2678  |\n",
      "|Default           |25    |\n",
      "+------------------+------+\n",
      "\n"
     ]
    }
   ],
   "source": [
    "red_df.groupBy(['loan_status']).count().orderBy('count', ascending = False).show(10,  truncate = False)"
   ]
  },
  {
   "cell_type": "code",
   "execution_count": 12,
   "metadata": {},
   "outputs": [
    {
     "name": "stdout",
     "output_type": "stream",
     "text": [
      "+-------+-------+\n",
      "|default|count  |\n",
      "+-------+-------+\n",
      "|0      |1449711|\n",
      "|1      |219402 |\n",
      "+-------+-------+\n",
      "\n"
     ]
    }
   ],
   "source": [
    "data = red_df.withColumn(\"default\", \n",
    "   F.when((red_df.loan_status == 'Fully Paid') | (red_df.loan_status == 'Current') | \\\n",
    "          (red_df.loan_status == 'Does not meet the credit policy. Status:Fully Paid') ,0).otherwise('1'))\n",
    "\n",
    "data = data.drop('loan_status')\n",
    "\n",
    "data.groupBy(['default']).count().orderBy('count', ascending = False).show(10,  truncate = False)"
   ]
  },
  {
   "cell_type": "code",
   "execution_count": 13,
   "metadata": {},
   "outputs": [
    {
     "data": {
      "text/plain": [
       "Text(0, 0.5, 'Number of Customers')"
      ]
     },
     "execution_count": 13,
     "metadata": {},
     "output_type": "execute_result"
    },
    {
     "data": {
      "image/png": "[encoded data removed]",
      "text/plain": [
       "<Figure size 720x720 with 1 Axes>"
      ]
     },
     "metadata": {
      "needs_background": "light"
     },
     "output_type": "display_data"
    }
   ],
   "source": [
    "defaulters = data.select('default', 'int_rate', 'term').toPandas()\n",
    "\n",
    "fig, ax = plt.subplots(figsize = (10,10))\n",
    "\n",
    "sns.countplot(x = 'default', data = defaulters)\n",
    "ax.set_title('Defaulters', fontsize = 20)\n",
    "ax.set_xlabel('Default Status')\n",
    "ax.set_ylabel('Number of Customers')"
   ]
  },
  {
   "cell_type": "markdown",
   "metadata": {},
   "source": [
    "Only 13.1% of the borrowers have defaulted, hence the input data will be skewed. "
   ]
  },
  {
   "cell_type": "markdown",
   "metadata": {},
   "source": []
  },
  {
   "cell_type": "markdown",
   "metadata": {},
   "source": [
    "In real life, a lender mainly looks at 2 main thing, \"Credit Score\" and \"Income\", hence sanctioning x amount and term of the loan.(Since we dont have access to credit scoer we will explore other columns)\n",
    "\n",
    "The purpose might be an important factor in setting in\n",
    "\n",
    "The borrower looks at Interest rate, installment and term. "
   ]
  },
  {
   "cell_type": "code",
   "execution_count": 16,
   "metadata": {},
   "outputs": [
    {
     "name": "stdout",
     "output_type": "stream",
     "text": [
      "+--------------------+-------+\n",
      "|debt_settlement_flag|count  |\n",
      "+--------------------+-------+\n",
      "|N                   |1643877|\n",
      "|Y                   |25236  |\n",
      "+--------------------+-------+\n",
      "\n"
     ]
    }
   ],
   "source": [
    "red_df.groupBy(['debt_settlement_flag']).count().orderBy('count', ascending = False).show(10,  truncate = False)"
   ]
  },
  {
   "cell_type": "code",
   "execution_count": 17,
   "metadata": {},
   "outputs": [
    {
     "data": {
      "text/plain": [
       "Text(0, 0.5, 'Number of Customers')"
      ]
     },
     "execution_count": 17,
     "metadata": {},
     "output_type": "execute_result"
    },
    {
     "data": {
      "image/png": "[encoded data removed]",
      "text/plain": [
       "<Figure size 720x720 with 1 Axes>"
      ]
     },
     "metadata": {
      "needs_background": "light"
     },
     "output_type": "display_data"
    }
   ],
   "source": [
    "exp = data.select('loan_amnt', 'funded_amnt', 'int_rate','installment', 'annual_inc','term', 'default').toPandas()\n",
    "\n",
    "\n",
    "fig, ax = plt.subplots(figsize = (10,10))\n",
    "sns.kdeplot(data = exp, x = 'int_rate', hue = 'default')\n",
    "ax.set_title('Interest Rate Distribution', fontsize = 20)\n",
    "ax.set_xlabel('Interest Rate')\n",
    "ax.set_ylabel('Number of Customers')"
   ]
  },
  {
   "cell_type": "code",
   "execution_count": 18,
   "metadata": {},
   "outputs": [
    {
     "ename": "TypeError",
     "evalue": "The x variable is categorical, but one of ['numeric', 'datetime'] is required",
     "output_type": "error",
     "traceback": [
      "\u001b[1;31m---------------------------------------------------------------------------\u001b[0m",
      "\u001b[1;31mTypeError\u001b[0m                                 Traceback (most recent call last)",
      "\u001b[1;32m<ipython-input-18-ec01566114d6>\u001b[0m in \u001b[0;36m<module>\u001b[1;34m\u001b[0m\n\u001b[0;32m      1\u001b[0m \u001b[0mfig\u001b[0m\u001b[1;33m,\u001b[0m\u001b[0max\u001b[0m \u001b[1;33m=\u001b[0m \u001b[0mplt\u001b[0m\u001b[1;33m.\u001b[0m\u001b[0msubplots\u001b[0m\u001b[1;33m(\u001b[0m\u001b[0mfigsize\u001b[0m \u001b[1;33m=\u001b[0m \u001b[1;33m(\u001b[0m\u001b[1;36m10\u001b[0m\u001b[1;33m,\u001b[0m\u001b[1;36m10\u001b[0m\u001b[1;33m)\u001b[0m\u001b[1;33m)\u001b[0m\u001b[1;33m\u001b[0m\u001b[1;33m\u001b[0m\u001b[0m\n\u001b[1;32m----> 2\u001b[1;33m \u001b[0msns\u001b[0m\u001b[1;33m.\u001b[0m\u001b[0mkdeplot\u001b[0m\u001b[1;33m(\u001b[0m\u001b[0mdata\u001b[0m \u001b[1;33m=\u001b[0m \u001b[0mexp\u001b[0m\u001b[1;33m,\u001b[0m \u001b[0mx\u001b[0m \u001b[1;33m=\u001b[0m \u001b[1;34m'annual_inc'\u001b[0m\u001b[1;33m,\u001b[0m \u001b[0mhue\u001b[0m \u001b[1;33m=\u001b[0m \u001b[1;34m'default'\u001b[0m\u001b[1;33m)\u001b[0m\u001b[1;33m\u001b[0m\u001b[1;33m\u001b[0m\u001b[0m\n\u001b[0m\u001b[0;32m      3\u001b[0m \u001b[0max\u001b[0m\u001b[1;33m.\u001b[0m\u001b[0mset_title\u001b[0m\u001b[1;33m(\u001b[0m\u001b[1;34m'Interest Rate Distribution'\u001b[0m\u001b[1;33m,\u001b[0m \u001b[0mfontsize\u001b[0m \u001b[1;33m=\u001b[0m \u001b[1;36m20\u001b[0m\u001b[1;33m)\u001b[0m\u001b[1;33m\u001b[0m\u001b[1;33m\u001b[0m\u001b[0m\n\u001b[0;32m      4\u001b[0m \u001b[0max\u001b[0m\u001b[1;33m.\u001b[0m\u001b[0mset_xlabel\u001b[0m\u001b[1;33m(\u001b[0m\u001b[1;34m'Interest Rate'\u001b[0m\u001b[1;33m)\u001b[0m\u001b[1;33m\u001b[0m\u001b[1;33m\u001b[0m\u001b[0m\n\u001b[0;32m      5\u001b[0m \u001b[0max\u001b[0m\u001b[1;33m.\u001b[0m\u001b[0mset_ylabel\u001b[0m\u001b[1;33m(\u001b[0m\u001b[1;34m'Number of Customers'\u001b[0m\u001b[1;33m)\u001b[0m\u001b[1;33m\u001b[0m\u001b[1;33m\u001b[0m\u001b[0m\n",
      "\u001b[1;32m~\\anaconda3\\lib\\site-packages\\seaborn\\_decorators.py\u001b[0m in \u001b[0;36minner_f\u001b[1;34m(*args, **kwargs)\u001b[0m\n\u001b[0;32m     44\u001b[0m             )\n\u001b[0;32m     45\u001b[0m         \u001b[0mkwargs\u001b[0m\u001b[1;33m.\u001b[0m\u001b[0mupdate\u001b[0m\u001b[1;33m(\u001b[0m\u001b[1;33m{\u001b[0m\u001b[0mk\u001b[0m\u001b[1;33m:\u001b[0m \u001b[0marg\u001b[0m \u001b[1;32mfor\u001b[0m \u001b[0mk\u001b[0m\u001b[1;33m,\u001b[0m \u001b[0marg\u001b[0m \u001b[1;32min\u001b[0m \u001b[0mzip\u001b[0m\u001b[1;33m(\u001b[0m\u001b[0msig\u001b[0m\u001b[1;33m.\u001b[0m\u001b[0mparameters\u001b[0m\u001b[1;33m,\u001b[0m \u001b[0margs\u001b[0m\u001b[1;33m)\u001b[0m\u001b[1;33m}\u001b[0m\u001b[1;33m)\u001b[0m\u001b[1;33m\u001b[0m\u001b[1;33m\u001b[0m\u001b[0m\n\u001b[1;32m---> 46\u001b[1;33m         \u001b[1;32mreturn\u001b[0m \u001b[0mf\u001b[0m\u001b[1;33m(\u001b[0m\u001b[1;33m**\u001b[0m\u001b[0mkwargs\u001b[0m\u001b[1;33m)\u001b[0m\u001b[1;33m\u001b[0m\u001b[1;33m\u001b[0m\u001b[0m\n\u001b[0m\u001b[0;32m     47\u001b[0m     \u001b[1;32mreturn\u001b[0m \u001b[0minner_f\u001b[0m\u001b[1;33m\u001b[0m\u001b[1;33m\u001b[0m\u001b[0m\n\u001b[0;32m     48\u001b[0m \u001b[1;33m\u001b[0m\u001b[0m\n",
      "\u001b[1;32m~\\anaconda3\\lib\\site-packages\\seaborn\\distributions.py\u001b[0m in \u001b[0;36mkdeplot\u001b[1;34m(x, y, shade, vertical, kernel, bw, gridsize, cut, clip, legend, cumulative, shade_lowest, cbar, cbar_ax, cbar_kws, ax, weights, hue, palette, hue_order, hue_norm, multiple, common_norm, common_grid, levels, thresh, bw_method, bw_adjust, log_scale, color, fill, data, data2, **kwargs)\u001b[0m\n\u001b[0;32m   1720\u001b[0m     )\n\u001b[0;32m   1721\u001b[0m \u001b[1;33m\u001b[0m\u001b[0m\n\u001b[1;32m-> 1722\u001b[1;33m     \u001b[0mp\u001b[0m\u001b[1;33m.\u001b[0m\u001b[0m_attach\u001b[0m\u001b[1;33m(\u001b[0m\u001b[0max\u001b[0m\u001b[1;33m,\u001b[0m \u001b[0mallowed_types\u001b[0m\u001b[1;33m=\u001b[0m\u001b[1;33m[\u001b[0m\u001b[1;34m\"numeric\"\u001b[0m\u001b[1;33m,\u001b[0m \u001b[1;34m\"datetime\"\u001b[0m\u001b[1;33m]\u001b[0m\u001b[1;33m,\u001b[0m \u001b[0mlog_scale\u001b[0m\u001b[1;33m=\u001b[0m\u001b[0mlog_scale\u001b[0m\u001b[1;33m)\u001b[0m\u001b[1;33m\u001b[0m\u001b[1;33m\u001b[0m\u001b[0m\n\u001b[0m\u001b[0;32m   1723\u001b[0m \u001b[1;33m\u001b[0m\u001b[0m\n\u001b[0;32m   1724\u001b[0m     \u001b[1;32mif\u001b[0m \u001b[0mp\u001b[0m\u001b[1;33m.\u001b[0m\u001b[0munivariate\u001b[0m\u001b[1;33m:\u001b[0m\u001b[1;33m\u001b[0m\u001b[1;33m\u001b[0m\u001b[0m\n",
      "\u001b[1;32m~\\anaconda3\\lib\\site-packages\\seaborn\\_core.py\u001b[0m in \u001b[0;36m_attach\u001b[1;34m(self, obj, allowed_types, log_scale)\u001b[0m\n\u001b[0;32m   1101\u001b[0m                     \u001b[1;34mf\"{allowed_types} is required\"\u001b[0m\u001b[1;33m\u001b[0m\u001b[1;33m\u001b[0m\u001b[0m\n\u001b[0;32m   1102\u001b[0m                 )\n\u001b[1;32m-> 1103\u001b[1;33m                 \u001b[1;32mraise\u001b[0m \u001b[0mTypeError\u001b[0m\u001b[1;33m(\u001b[0m\u001b[0merr\u001b[0m\u001b[1;33m)\u001b[0m\u001b[1;33m\u001b[0m\u001b[1;33m\u001b[0m\u001b[0m\n\u001b[0m\u001b[0;32m   1104\u001b[0m \u001b[1;33m\u001b[0m\u001b[0m\n\u001b[0;32m   1105\u001b[0m             \u001b[1;31m# Register with the matplotlib unit conversion machinery\u001b[0m\u001b[1;33m\u001b[0m\u001b[1;33m\u001b[0m\u001b[1;33m\u001b[0m\u001b[0m\n",
      "\u001b[1;31mTypeError\u001b[0m: The x variable is categorical, but one of ['numeric', 'datetime'] is required"
     ]
    },
    {
     "data": {
      "image/png": "[encoded data removed]",
      "text/plain": [
       "<Figure size 720x720 with 1 Axes>"
      ]
     },
     "metadata": {
      "needs_background": "light"
     },
     "output_type": "display_data"
    }
   ],
   "source": [
    "fig,ax = plt.subplots(figsize = (10,10))\n",
    "sns.kdeplot(data = exp, x = 'annual_inc', hue = 'default')\n",
    "ax.set_title('Interest Rate Distribution', fontsize = 20)\n",
    "ax.set_xlabel('Interest Rate')\n",
    "ax.set_ylabel('Number of Customers')"
   ]
  },
  {
   "cell_type": "code",
   "execution_count": null,
   "metadata": {},
   "outputs": [],
   "source": []
  },
  {
   "cell_type": "code",
   "execution_count": null,
   "metadata": {},
   "outputs": [],
   "source": []
  },
  {
   "cell_type": "code",
   "execution_count": null,
   "metadata": {},
   "outputs": [],
   "source": []
  },
  {
   "cell_type": "code",
   "execution_count": null,
   "metadata": {},
   "outputs": [],
   "source": []
  },
  {
   "cell_type": "code",
   "execution_count": null,
   "metadata": {},
   "outputs": [],
   "source": []
  },
  {
   "cell_type": "code",
   "execution_count": null,
   "metadata": {},
   "outputs": [],
   "source": []
  },
  {
   "cell_type": "code",
   "execution_count": null,
   "metadata": {},
   "outputs": [],
   "source": []
  },
  {
   "cell_type": "code",
   "execution_count": null,
   "metadata": {},
   "outputs": [],
   "source": []
  },
  {
   "cell_type": "code",
   "execution_count": null,
   "metadata": {},
   "outputs": [],
   "source": [
    "fig, ax = plt.subplots(figsize = (10,10))\n",
    "\n",
    "sns.countplot(x = 'term',hue ='default', data = defaulters)\n",
    "ax.set_title('Term Length Default', fontsize = 20)\n",
    "ax.set_xlabel('Term Length')\n",
    "ax.set_ylabel('Number of Customers')"
   ]
  },
  {
   "cell_type": "markdown",
   "metadata": {},
   "source": [
    "The number of loan defaults are higher on 60 months loan term with respect to number of loans issued."
   ]
  },
  {
   "cell_type": "code",
   "execution_count": null,
   "metadata": {},
   "outputs": [],
   "source": [
    "fig, ax = plt.subplots(figsize = (10,10))\n",
    "sns.boxplot(x= 'term', y= 'int_rate', hue='default', data= defaulters)\n",
    "ax.set_title('Interest Term Length Default', fontsize = 18)\n",
    "ax.set_xlabel('Term Length')\n",
    "ax.set_ylabel('Interest Rates')"
   ]
  },
  {
   "cell_type": "code",
   "execution_count": null,
   "metadata": {},
   "outputs": [],
   "source": []
  },
  {
   "cell_type": "code",
   "execution_count": null,
   "metadata": {
    "scrolled": true
   },
   "outputs": [],
   "source": [
    "data.groupBy(['purpose']).count().orderBy('count', ascending = False).show(50,  truncate = False)"
   ]
  },
  {
   "cell_type": "markdown",
   "metadata": {},
   "source": [
    "Reasons for taking out loan"
   ]
  },
  {
   "cell_type": "code",
   "execution_count": null,
   "metadata": {},
   "outputs": [],
   "source": [
    "data = data.withColumn(\"annual_inc\", data[\"annual_inc\"].cast(IntegerType()))"
   ]
  },
  {
   "cell_type": "code",
   "execution_count": null,
   "metadata": {},
   "outputs": [],
   "source": [
    "purpose = data.select('purpose', 'annual_inc', 'int_rate', 'default').toPandas()"
   ]
  },
  {
   "cell_type": "code",
   "execution_count": null,
   "metadata": {},
   "outputs": [],
   "source": [
    "fig, (ax1, ax2) = plt.subplots(2,1, sharex = True, figsize = (10,10))\n",
    "fig.subplots_adjust(hspace=0.05)\n",
    "\n",
    "#set limits for y axis\n",
    "ax1.set_ylim(200000, 900000)\n",
    "ax2.set_ylim(0, 100000)\n",
    "\n",
    "# plotting break diagonals\n",
    "d = 0.025  # line length \n",
    "ax1.plot((-d, +d), (-d, +d), c='k', clip_on=False, transform=ax1.transAxes)\n",
    "ax1.plot((1 - d, 1 + d), (-d, +d), c='k', clip_on=False, transform=ax1.transAxes)\n",
    "ax2.plot((-d, +d), (1 - d, (1 + d)), c='k', clip_on=False, transform=ax2.transAxes)\n",
    "ax2.plot((1 - d, 1 + d), (1 - d, 1 + d), c='k', clip_on=False, transform=ax2.transAxes)\n",
    "\n",
    "sns.countplot(x= 'purpose', hue='default', data= purpose)\n",
    "ax1.set_title('Annual Income vs Purpose', fontsize = 18)\n",
    "# ax1.set_xlabel('Purpose')\n",
    "ax1.set_ylabel('Annual Income')\n",
    "ax1.spines['bottom'].set_visible(False)\n",
    "ax1.tick_params(bottom=False)\n",
    "\n",
    "ax2.spine\n",
    "sns.countplot(x= 'purpose', hue='default', data= purpose)\n",
    "# ax2.set_title('Annual Income vs Purpose', fontsize = 18)\n",
    "ax2.set_xlabel('Purpose')\n",
    "ax2.set_ylabel('Annual Income')\n",
    "plt.xticks(rotation=45)"
   ]
  },
  {
   "cell_type": "code",
   "execution_count": null,
   "metadata": {},
   "outputs": [],
   "source": []
  },
  {
   "cell_type": "code",
   "execution_count": null,
   "metadata": {},
   "outputs": [],
   "source": []
  },
  {
   "cell_type": "code",
   "execution_count": null,
   "metadata": {},
   "outputs": [],
   "source": []
  },
  {
   "cell_type": "code",
   "execution_count": null,
   "metadata": {},
   "outputs": [],
   "source": []
  }
 ],
 "metadata": {
  "kernelspec": {
   "display_name": "Python 3",
   "language": "python",
   "name": "python3"
  },
  "language_info": {
   "codemirror_mode": {
    "name": "ipython",
    "version": 3
   },
   "file_extension": ".py",
   "mimetype": "text/x-python",
   "name": "python",
   "nbconvert_exporter": "python",
   "pygments_lexer": "ipython3",
   "version": "3.8.5"
  }
 },
 "nbformat": 4,
 "nbformat_minor": 4
}
